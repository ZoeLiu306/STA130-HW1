{
 "cells": [
  {
   "cell_type": "markdown",
   "id": "a8731f89",
   "metadata": {},
   "source": [
    "Error 1"
   ]
  },
  {
   "cell_type": "code",
   "execution_count": 1,
   "id": "71d05e6f",
   "metadata": {},
   "outputs": [
    {
     "ename": "NameError",
     "evalue": "name 'pd' is not defined",
     "output_type": "error",
     "traceback": [
      "\u001b[0;31m---------------------------------------------------------------------------\u001b[0m",
      "\u001b[0;31mNameError\u001b[0m                                 Traceback (most recent call last)",
      "Cell \u001b[0;32mIn[1], line 2\u001b[0m\n\u001b[1;32m      1\u001b[0m url \u001b[38;5;241m=\u001b[39m \u001b[38;5;124m\"\u001b[39m\u001b[38;5;124mhttps://web.stanford.edu/class/archive/cs/cs109/cs109.1166/stuff/titanic.csv\u001b[39m\u001b[38;5;124m\"\u001b[39m\n\u001b[0;32m----> 2\u001b[0m data \u001b[38;5;241m=\u001b[39m \u001b[43mpd\u001b[49m\u001b[38;5;241m.\u001b[39mread_csv(url)\n\u001b[1;32m      3\u001b[0m \u001b[38;5;28mprint\u001b[39m(data\u001b[38;5;241m.\u001b[39mhead())\n",
      "\u001b[0;31mNameError\u001b[0m: name 'pd' is not defined"
     ]
    }
   ],
   "source": [
    "url = \"https://web.stanford.edu/class/archive/cs/cs109/cs109.1166/stuff/titanic.csv\"\n",
    "data = pd.read_csv(url)\n",
    "print(data.head())"
   ]
  },
  {
   "cell_type": "code",
   "execution_count": 2,
   "id": "41431e9d",
   "metadata": {},
   "outputs": [
    {
     "name": "stdout",
     "output_type": "stream",
     "text": [
      "   Survived  Pclass                                               Name  \\\n",
      "0         0       3                             Mr. Owen Harris Braund   \n",
      "1         1       1  Mrs. John Bradley (Florence Briggs Thayer) Cum...   \n",
      "2         1       3                              Miss. Laina Heikkinen   \n",
      "3         1       1        Mrs. Jacques Heath (Lily May Peel) Futrelle   \n",
      "4         0       3                            Mr. William Henry Allen   \n",
      "\n",
      "      Sex   Age  Siblings/Spouses Aboard  Parents/Children Aboard     Fare  \n",
      "0    male  22.0                        1                        0   7.2500  \n",
      "1  female  38.0                        1                        0  71.2833  \n",
      "2  female  26.0                        0                        0   7.9250  \n",
      "3  female  35.0                        1                        0  53.1000  \n",
      "4    male  35.0                        0                        0   8.0500  \n"
     ]
    }
   ],
   "source": [
    "import pandas as pd  # Import Pandas\n",
    "\n",
    "# Load the Titanic dataset\n",
    "url = \"https://web.stanford.edu/class/archive/cs/cs109/cs109.1166/stuff/titanic.csv\"\n",
    "data = pd.read_csv(url)  # Load the data\n",
    "print(data.head())  # Print the first few rows\n"
   ]
  },
  {
   "cell_type": "code",
   "execution_count": null,
   "id": "868df481",
   "metadata": {},
   "outputs": [],
   "source": []
  },
  {
   "cell_type": "markdown",
   "id": "bf911f6a",
   "metadata": {},
   "source": [
    "Error 2"
   ]
  },
  {
   "cell_type": "code",
   "execution_count": 3,
   "id": "550ae512",
   "metadata": {},
   "outputs": [
    {
     "ename": "AttributeError",
     "evalue": "module 'pandas' has no attribute 'reads_csv'",
     "output_type": "error",
     "traceback": [
      "\u001b[0;31m---------------------------------------------------------------------------\u001b[0m",
      "\u001b[0;31mAttributeError\u001b[0m                            Traceback (most recent call last)",
      "Cell \u001b[0;32mIn[3], line 5\u001b[0m\n\u001b[1;32m      3\u001b[0m \u001b[38;5;66;03m# Load the Titanic dataset\u001b[39;00m\n\u001b[1;32m      4\u001b[0m url \u001b[38;5;241m=\u001b[39m \u001b[38;5;124m\"\u001b[39m\u001b[38;5;124mhttps://web.stanford.edu/class/archive/cs/cs109/cs109.1166/stuff/titanic.csv\u001b[39m\u001b[38;5;124m\"\u001b[39m\n\u001b[0;32m----> 5\u001b[0m data \u001b[38;5;241m=\u001b[39m \u001b[43mpd\u001b[49m\u001b[38;5;241;43m.\u001b[39;49m\u001b[43mreads_csv\u001b[49m(url)  \u001b[38;5;66;03m# Load the data\u001b[39;00m\n\u001b[1;32m      6\u001b[0m \u001b[38;5;28mprint\u001b[39m(data\u001b[38;5;241m.\u001b[39mhead())  \u001b[38;5;66;03m# Print the first few rows\u001b[39;00m\n",
      "\u001b[0;31mAttributeError\u001b[0m: module 'pandas' has no attribute 'reads_csv'"
     ]
    }
   ],
   "source": [
    "import pandas as pd  # Import Pandas\n",
    "\n",
    "# Load the Titanic dataset\n",
    "url = \"https://web.stanford.edu/class/archive/cs/cs109/cs109.1166/stuff/titanic.csv\"\n",
    "data = pd.reads_csv(url)  # Load the data\n",
    "print(data.head())  # Print the first few rows"
   ]
  },
  {
   "cell_type": "code",
   "execution_count": 4,
   "id": "5bdcdbf9",
   "metadata": {},
   "outputs": [
    {
     "name": "stdout",
     "output_type": "stream",
     "text": [
      "   Survived  Pclass                                               Name  \\\n",
      "0         0       3                             Mr. Owen Harris Braund   \n",
      "1         1       1  Mrs. John Bradley (Florence Briggs Thayer) Cum...   \n",
      "2         1       3                              Miss. Laina Heikkinen   \n",
      "3         1       1        Mrs. Jacques Heath (Lily May Peel) Futrelle   \n",
      "4         0       3                            Mr. William Henry Allen   \n",
      "\n",
      "      Sex   Age  Siblings/Spouses Aboard  Parents/Children Aboard     Fare  \n",
      "0    male  22.0                        1                        0   7.2500  \n",
      "1  female  38.0                        1                        0  71.2833  \n",
      "2  female  26.0                        0                        0   7.9250  \n",
      "3  female  35.0                        1                        0  53.1000  \n",
      "4    male  35.0                        0                        0   8.0500  \n"
     ]
    }
   ],
   "source": [
    "import pandas as pd  # Import Pandas\n",
    "\n",
    "# Load the Titanic dataset\n",
    "url = \"https://web.stanford.edu/class/archive/cs/cs109/cs109.1166/stuff/titanic.csv\"\n",
    "data = pd.read_csv(url)  # Correct function to load the data\n",
    "print(data.head())  # Print the first few rows\n"
   ]
  },
  {
   "cell_type": "markdown",
   "id": "1f1874a6",
   "metadata": {},
   "source": [
    "Make sure to use pd.read_csv() with an underscore, not pd.reads_csv() with an \"s\". This should resolve the AttributeError."
   ]
  },
  {
   "cell_type": "code",
   "execution_count": null,
   "id": "3755f791",
   "metadata": {},
   "outputs": [],
   "source": []
  },
  {
   "cell_type": "markdown",
   "id": "333b6d2c",
   "metadata": {},
   "source": [
    "Error 3"
   ]
  },
  {
   "cell_type": "code",
   "execution_count": 7,
   "id": "348fd141",
   "metadata": {},
   "outputs": [
    {
     "ename": "NameError",
     "evalue": "name 'DF' is not defined",
     "output_type": "error",
     "traceback": [
      "\u001b[0;31m---------------------------------------------------------------------------\u001b[0m",
      "\u001b[0;31mNameError\u001b[0m                                 Traceback (most recent call last)",
      "Cell \u001b[0;32mIn[7], line 8\u001b[0m\n\u001b[1;32m      5\u001b[0m df \u001b[38;5;241m=\u001b[39m pd\u001b[38;5;241m.\u001b[39mread_csv(url)\n\u001b[1;32m      7\u001b[0m \u001b[38;5;66;03m# Group by 'Pclass' and describe 'Age'\u001b[39;00m\n\u001b[0;32m----> 8\u001b[0m age_description_by_pclass \u001b[38;5;241m=\u001b[39m \u001b[43mDF\u001b[49m\u001b[38;5;241m.\u001b[39mgroupby(\u001b[38;5;124m'\u001b[39m\u001b[38;5;124mPclass\u001b[39m\u001b[38;5;124m'\u001b[39m)[\u001b[38;5;124m'\u001b[39m\u001b[38;5;124mAge\u001b[39m\u001b[38;5;124m'\u001b[39m]\u001b[38;5;241m.\u001b[39mdescribe()\n\u001b[1;32m     10\u001b[0m \u001b[38;5;28mprint\u001b[39m(age_description_by_pclass)\n",
      "\u001b[0;31mNameError\u001b[0m: name 'DF' is not defined"
     ]
    }
   ],
   "source": [
    "import pandas as pd\n",
    "\n",
    "# Load the Titanic dataset\n",
    "url = \"https://web.stanford.edu/class/archive/cs/cs109/cs109.1166/stuff/titanic.csv\"\n",
    "df = pd.read_csv(url)\n",
    "\n",
    "# Group by 'Pclass' and describe 'Age'\n",
    "age_description_by_pclass = DF.groupby('Pclass')['Age'].describe()\n",
    "\n",
    "print(age_description_by_pclass)"
   ]
  },
  {
   "cell_type": "code",
   "execution_count": 8,
   "id": "ed086da2",
   "metadata": {},
   "outputs": [
    {
     "name": "stdout",
     "output_type": "stream",
     "text": [
      "        count       mean        std   min    25%   50%     75%   max\n",
      "Pclass                                                              \n",
      "1       216.0  38.788981  14.183633  0.92  28.75  38.5  48.000  80.0\n",
      "2       184.0  29.868641  13.756191  0.67  23.00  29.0  36.625  70.0\n",
      "3       487.0  25.188747  12.095084  0.42  19.00  24.0  31.000  74.0\n"
     ]
    }
   ],
   "source": [
    "import pandas as pd  # Import Pandas\n",
    "\n",
    "# Load the Titanic dataset\n",
    "url = \"https://web.stanford.edu/class/archive/cs/cs109/cs109.1166/stuff/titanic.csv\"\n",
    "df = pd.read_csv(url)  # Load the data\n",
    "\n",
    "# Group by 'Pclass' and describe 'Age'\n",
    "age_description_by_pclass = df.groupby('Pclass')['Age'].describe()\n",
    "\n",
    "print(age_description_by_pclass)\n"
   ]
  },
  {
   "cell_type": "markdown",
   "id": "d7567853",
   "metadata": {},
   "source": [
    "Chatgpt:\n",
    "    Here’s how you can correct the code:\n",
    "\n",
    "Make sure you use the same variable name consistently. If your DataFrame is stored in df, use df everywhere.\n",
    "\n",
    "Replace DF with df in your code."
   ]
  },
  {
   "cell_type": "code",
   "execution_count": null,
   "id": "e5373611",
   "metadata": {},
   "outputs": [],
   "source": []
  },
  {
   "cell_type": "raw",
   "id": "6b85d9a1",
   "metadata": {},
   "source": [
    "Error 4"
   ]
  },
  {
   "cell_type": "code",
   "execution_count": 9,
   "id": "06921126",
   "metadata": {},
   "outputs": [
    {
     "ename": "SyntaxError",
     "evalue": "incomplete input (2178876887.py, line 2)",
     "output_type": "error",
     "traceback": [
      "\u001b[0;36m  Cell \u001b[0;32mIn[9], line 2\u001b[0;36m\u001b[0m\n\u001b[0;31m    print(summary_numeric)\u001b[0m\n\u001b[0m                          ^\u001b[0m\n\u001b[0;31mSyntaxError\u001b[0m\u001b[0;31m:\u001b[0m incomplete input\n"
     ]
    }
   ],
   "source": [
    "summary_numeric = data.describe(\n",
    "print(summary_numeric)"
   ]
  },
  {
   "cell_type": "code",
   "execution_count": 10,
   "id": "95cb7859",
   "metadata": {},
   "outputs": [
    {
     "name": "stdout",
     "output_type": "stream",
     "text": [
      "         Survived      Pclass         Age  Siblings/Spouses Aboard  \\\n",
      "count  887.000000  887.000000  887.000000               887.000000   \n",
      "mean     0.385569    2.305524   29.471443                 0.525366   \n",
      "std      0.487004    0.836662   14.121908                 1.104669   \n",
      "min      0.000000    1.000000    0.420000                 0.000000   \n",
      "25%      0.000000    2.000000   20.250000                 0.000000   \n",
      "50%      0.000000    3.000000   28.000000                 0.000000   \n",
      "75%      1.000000    3.000000   38.000000                 1.000000   \n",
      "max      1.000000    3.000000   80.000000                 8.000000   \n",
      "\n",
      "       Parents/Children Aboard       Fare  \n",
      "count               887.000000  887.00000  \n",
      "mean                  0.383315   32.30542  \n",
      "std                   0.807466   49.78204  \n",
      "min                   0.000000    0.00000  \n",
      "25%                   0.000000    7.92500  \n",
      "50%                   0.000000   14.45420  \n",
      "75%                   0.000000   31.13750  \n",
      "max                   6.000000  512.32920  \n"
     ]
    }
   ],
   "source": [
    "import pandas as pd  # Import Pandas\n",
    "\n",
    "# Load the Titanic dataset\n",
    "url = \"https://web.stanford.edu/class/archive/cs/cs109/cs109.1166/stuff/titanic.csv\"\n",
    "data = pd.read_csv(url)  # Load the data\n",
    "\n",
    "# Generate summary statistics\n",
    "summary_numeric = data.describe()  # Corrected: added closing parenthesis\n",
    "\n",
    "# Print the summary statistics\n",
    "print(summary_numeric)\n"
   ]
  },
  {
   "cell_type": "markdown",
   "id": "086e661f",
   "metadata": {},
   "source": [
    "Explanation\n",
    "\n",
    "data.describe(): Computes descriptive statistics for numeric columns in the DataFrame.\n",
    "summary_numeric: Stores the result of the describe() method.\n",
    "print(summary_numeric): Outputs the summary statistics to the console.\n",
    "\n",
    "Ensure that the describe() method has its parentheses properly closed and that the print() function is used to display the result. This should resolve the SyntaxError."
   ]
  },
  {
   "cell_type": "code",
   "execution_count": null,
   "id": "cc45df1f",
   "metadata": {},
   "outputs": [],
   "source": []
  },
  {
   "cell_type": "markdown",
   "id": "a8d57cbb",
   "metadata": {},
   "source": [
    "Error 5"
   ]
  },
  {
   "cell_type": "code",
   "execution_count": 14,
   "id": "8f3c6084",
   "metadata": {},
   "outputs": [],
   "source": [
    "data = {\n",
    "    'Pclass': [1, 2, 2, 1, 3],\n",
    "    'Age': [25, None, 30, 22, None]\n",
    "}\n",
    "\n",
    "df = pd.DataFrame(data)"
   ]
  },
  {
   "cell_type": "code",
   "execution_count": 15,
   "id": "584c3b22",
   "metadata": {},
   "outputs": [
    {
     "ename": "AttributeError",
     "evalue": "'DataFrame' object has no attribute 'group_by'",
     "output_type": "error",
     "traceback": [
      "\u001b[0;31m---------------------------------------------------------------------------\u001b[0m",
      "\u001b[0;31mAttributeError\u001b[0m                            Traceback (most recent call last)",
      "\u001b[0;32m/tmp/ipykernel_208/336568979.py\u001b[0m in \u001b[0;36m?\u001b[0;34m()\u001b[0m\n\u001b[0;32m----> 1\u001b[0;31m \u001b[0mgrouped_description\u001b[0m \u001b[0;34m=\u001b[0m \u001b[0mdf\u001b[0m\u001b[0;34m.\u001b[0m\u001b[0mgroup_by\u001b[0m\u001b[0;34m(\u001b[0m\u001b[0;34m'Pclass'\u001b[0m\u001b[0;34m)\u001b[0m\u001b[0;34m[\u001b[0m\u001b[0;34m'Age'\u001b[0m\u001b[0;34m]\u001b[0m\u001b[0;34m.\u001b[0m\u001b[0mdescribe\u001b[0m\u001b[0;34m(\u001b[0m\u001b[0;34m)\u001b[0m\u001b[0;34m\u001b[0m\u001b[0;34m\u001b[0m\u001b[0m\n\u001b[0m\u001b[1;32m      2\u001b[0m \u001b[0;34m\u001b[0m\u001b[0m\n\u001b[1;32m      3\u001b[0m \u001b[0mprint\u001b[0m\u001b[0;34m(\u001b[0m\u001b[0mgrouped_description\u001b[0m\u001b[0;34m)\u001b[0m\u001b[0;34m\u001b[0m\u001b[0;34m\u001b[0m\u001b[0m\n",
      "\u001b[0;32m/opt/conda/lib/python3.11/site-packages/pandas/core/generic.py\u001b[0m in \u001b[0;36m?\u001b[0;34m(self, name)\u001b[0m\n\u001b[1;32m   6200\u001b[0m             \u001b[0;32mand\u001b[0m \u001b[0mname\u001b[0m \u001b[0;32mnot\u001b[0m \u001b[0;32min\u001b[0m \u001b[0mself\u001b[0m\u001b[0;34m.\u001b[0m\u001b[0m_accessors\u001b[0m\u001b[0;34m\u001b[0m\u001b[0;34m\u001b[0m\u001b[0m\n\u001b[1;32m   6201\u001b[0m             \u001b[0;32mand\u001b[0m \u001b[0mself\u001b[0m\u001b[0;34m.\u001b[0m\u001b[0m_info_axis\u001b[0m\u001b[0;34m.\u001b[0m\u001b[0m_can_hold_identifiers_and_holds_name\u001b[0m\u001b[0;34m(\u001b[0m\u001b[0mname\u001b[0m\u001b[0;34m)\u001b[0m\u001b[0;34m\u001b[0m\u001b[0;34m\u001b[0m\u001b[0m\n\u001b[1;32m   6202\u001b[0m         ):\n\u001b[1;32m   6203\u001b[0m             \u001b[0;32mreturn\u001b[0m \u001b[0mself\u001b[0m\u001b[0;34m[\u001b[0m\u001b[0mname\u001b[0m\u001b[0;34m]\u001b[0m\u001b[0;34m\u001b[0m\u001b[0;34m\u001b[0m\u001b[0m\n\u001b[0;32m-> 6204\u001b[0;31m         \u001b[0;32mreturn\u001b[0m \u001b[0mobject\u001b[0m\u001b[0;34m.\u001b[0m\u001b[0m__getattribute__\u001b[0m\u001b[0;34m(\u001b[0m\u001b[0mself\u001b[0m\u001b[0;34m,\u001b[0m \u001b[0mname\u001b[0m\u001b[0;34m)\u001b[0m\u001b[0;34m\u001b[0m\u001b[0;34m\u001b[0m\u001b[0m\n\u001b[0m",
      "\u001b[0;31mAttributeError\u001b[0m: 'DataFrame' object has no attribute 'group_by'"
     ]
    }
   ],
   "source": [
    "grouped_description = df.group_by('Pclass')['Age'].describe()\n",
    "\n",
    "print(grouped_description)\n"
   ]
  },
  {
   "cell_type": "code",
   "execution_count": 16,
   "id": "94d44836",
   "metadata": {},
   "outputs": [
    {
     "name": "stdout",
     "output_type": "stream",
     "text": [
      "        count       mean        std   min    25%   50%     75%   max\n",
      "Pclass                                                              \n",
      "1       216.0  38.788981  14.183633  0.92  28.75  38.5  48.000  80.0\n",
      "2       184.0  29.868641  13.756191  0.67  23.00  29.0  36.625  70.0\n",
      "3       487.0  25.188747  12.095084  0.42  19.00  24.0  31.000  74.0\n"
     ]
    }
   ],
   "source": [
    "import pandas as pd  # Import Pandas\n",
    "\n",
    "# Load the Titanic dataset\n",
    "url = \"https://web.stanford.edu/class/archive/cs/cs109/cs109.1166/stuff/titanic.csv\"\n",
    "df = pd.read_csv(url)  # Load the data\n",
    "\n",
    "# Group by 'Pclass' and describe 'Age'\n",
    "grouped_description = df.groupby('Pclass')['Age'].describe()\n",
    "\n",
    "# Print the descriptive statistics for 'Age' within each 'Pclass'\n",
    "print(grouped_description)\n"
   ]
  },
  {
   "cell_type": "markdown",
   "id": "a85b8d14",
   "metadata": {},
   "source": [
    "The error you're encountering is due to a typo: group_by should be groupby. Pandas uses groupby (all lowercase) to group data by one or more columns."
   ]
  },
  {
   "cell_type": "code",
   "execution_count": null,
   "id": "e93d0090",
   "metadata": {},
   "outputs": [],
   "source": []
  },
  {
   "cell_type": "markdown",
   "id": "9ce149d7",
   "metadata": {},
   "source": [
    "Error 6"
   ]
  },
  {
   "cell_type": "code",
   "execution_count": 17,
   "id": "18f9fbca",
   "metadata": {},
   "outputs": [
    {
     "ename": "AttributeError",
     "evalue": "'dict' object has no attribute 'describe'",
     "output_type": "error",
     "traceback": [
      "\u001b[0;31m---------------------------------------------------------------------------\u001b[0m",
      "\u001b[0;31mAttributeError\u001b[0m                            Traceback (most recent call last)",
      "Cell \u001b[0;32mIn[17], line 1\u001b[0m\n\u001b[0;32m----> 1\u001b[0m summary_numeric \u001b[38;5;241m=\u001b[39m \u001b[43mdata\u001b[49m\u001b[38;5;241;43m.\u001b[39;49m\u001b[43mdescribe\u001b[49m()\n\u001b[1;32m      2\u001b[0m \u001b[38;5;28mprint\u001b[39m(summer_numeric)\n",
      "\u001b[0;31mAttributeError\u001b[0m: 'dict' object has no attribute 'describe'"
     ]
    }
   ],
   "source": [
    "summary_numeric = data.describe()\n",
    "print(summer_numeric)"
   ]
  },
  {
   "cell_type": "code",
   "execution_count": 19,
   "id": "3ec1c2d4",
   "metadata": {},
   "outputs": [
    {
     "name": "stdout",
     "output_type": "stream",
     "text": [
      "         Survived      Pclass         Age  Siblings/Spouses Aboard  \\\n",
      "count  887.000000  887.000000  887.000000               887.000000   \n",
      "mean     0.385569    2.305524   29.471443                 0.525366   \n",
      "std      0.487004    0.836662   14.121908                 1.104669   \n",
      "min      0.000000    1.000000    0.420000                 0.000000   \n",
      "25%      0.000000    2.000000   20.250000                 0.000000   \n",
      "50%      0.000000    3.000000   28.000000                 0.000000   \n",
      "75%      1.000000    3.000000   38.000000                 1.000000   \n",
      "max      1.000000    3.000000   80.000000                 8.000000   \n",
      "\n",
      "       Parents/Children Aboard       Fare  \n",
      "count               887.000000  887.00000  \n",
      "mean                  0.383315   32.30542  \n",
      "std                   0.807466   49.78204  \n",
      "min                   0.000000    0.00000  \n",
      "25%                   0.000000    7.92500  \n",
      "50%                   0.000000   14.45420  \n",
      "75%                   0.000000   31.13750  \n",
      "max                   6.000000  512.32920  \n"
     ]
    }
   ],
   "source": [
    "import pandas as pd  # Import Pandas\n",
    "\n",
    "# Load the Titanic dataset\n",
    "url = \"https://web.stanford.edu/class/archive/cs/cs109/cs109.1166/stuff/titanic.csv\"\n",
    "data = pd.read_csv(url)  # Load the data as a DataFrame\n",
    "\n",
    "# Compute summary statistics\n",
    "summary_numeric = data.describe()\n",
    "\n",
    "# Print the result\n",
    "print(summary_numeric)\n"
   ]
  },
  {
   "cell_type": "markdown",
   "id": "148ab7a1",
   "metadata": {},
   "source": [
    "The AttributeError: 'dict' object has no attribute 'describe' suggests that the data object is not a Pandas DataFrame but rather a dictionary. This might happen if the data variable was inadvertently reassigned or incorrectly loaded.\n",
    "\n"
   ]
  },
  {
   "cell_type": "code",
   "execution_count": null,
   "id": "f15b0982",
   "metadata": {},
   "outputs": [],
   "source": []
  },
  {
   "cell_type": "markdown",
   "id": "fa6b1e65",
   "metadata": {},
   "source": [
    "Error 7"
   ]
  },
  {
   "cell_type": "code",
   "execution_count": 20,
   "id": "246e56d5",
   "metadata": {
    "scrolled": true
   },
   "outputs": [
    {
     "ename": "NameError",
     "evalue": "name 'Pclass' is not defined",
     "output_type": "error",
     "traceback": [
      "\u001b[0;31m---------------------------------------------------------------------------\u001b[0m",
      "\u001b[0;31mNameError\u001b[0m                                 Traceback (most recent call last)",
      "Cell \u001b[0;32mIn[20], line 8\u001b[0m\n\u001b[1;32m      5\u001b[0m df \u001b[38;5;241m=\u001b[39m pd\u001b[38;5;241m.\u001b[39mread_csv(url)\n\u001b[1;32m      7\u001b[0m \u001b[38;5;66;03m# Group by 'Pclass' and describe 'Age'\u001b[39;00m\n\u001b[0;32m----> 8\u001b[0m age_description_by_pclass \u001b[38;5;241m=\u001b[39m df\u001b[38;5;241m.\u001b[39mgroupby(\u001b[43mPclass\u001b[49m)[\u001b[38;5;124m'\u001b[39m\u001b[38;5;124mAge\u001b[39m\u001b[38;5;124m'\u001b[39m]\u001b[38;5;241m.\u001b[39mdescribe()\n\u001b[1;32m     10\u001b[0m \u001b[38;5;28mprint\u001b[39m(age_description_by_pclass)\n",
      "\u001b[0;31mNameError\u001b[0m: name 'Pclass' is not defined"
     ]
    }
   ],
   "source": [
    "import pandas as pd\n",
    "\n",
    "# Load the Titanic dataset\n",
    "url = \"https://web.stanford.edu/class/archive/cs/cs109/cs109.1166/stuff/titanic.csv\"\n",
    "df = pd.read_csv(url)\n",
    "\n",
    "# Group by 'Pclass' and describe 'Age'\n",
    "age_description_by_pclass = df.groupby(Pclass)['Age'].describe()\n",
    "\n",
    "print(age_description_by_pclass)"
   ]
  },
  {
   "cell_type": "code",
   "execution_count": 21,
   "id": "0d7390bd",
   "metadata": {},
   "outputs": [
    {
     "name": "stdout",
     "output_type": "stream",
     "text": [
      "        count       mean        std   min    25%   50%     75%   max\n",
      "Pclass                                                              \n",
      "1       216.0  38.788981  14.183633  0.92  28.75  38.5  48.000  80.0\n",
      "2       184.0  29.868641  13.756191  0.67  23.00  29.0  36.625  70.0\n",
      "3       487.0  25.188747  12.095084  0.42  19.00  24.0  31.000  74.0\n"
     ]
    }
   ],
   "source": [
    "import pandas as pd\n",
    "\n",
    "# Load the Titanic dataset\n",
    "url = \"https://web.stanford.edu/class/archive/cs/cs109/cs109.1166/stuff/titanic.csv\"\n",
    "df = pd.read_csv(url)\n",
    "\n",
    "# Group by 'Pclass' and describe 'Age'\n",
    "age_description_by_pclass = df.groupby('Pclass')['Age'].describe()  # Use 'Pclass' as a string\n",
    "\n",
    "# Print the descriptive statistics\n",
    "print(age_description_by_pclass)\n"
   ]
  },
  {
   "cell_type": "markdown",
   "id": "aaf04ee5",
   "metadata": {},
   "source": [
    "The NameError: name 'Pclass' is not defined indicates that Pclass is being interpreted as a variable rather than a string. When using groupby, the column name should be specified as a string."
   ]
  },
  {
   "cell_type": "code",
   "execution_count": null,
   "id": "c4cf53be",
   "metadata": {},
   "outputs": [],
   "source": []
  }
 ],
 "metadata": {
  "kernelspec": {
   "display_name": "Python 3 (ipykernel)",
   "language": "python",
   "name": "python3"
  },
  "language_info": {
   "codemirror_mode": {
    "name": "ipython",
    "version": 3
   },
   "file_extension": ".py",
   "mimetype": "text/x-python",
   "name": "python",
   "nbconvert_exporter": "python",
   "pygments_lexer": "ipython3",
   "version": "3.11.6"
  }
 },
 "nbformat": 4,
 "nbformat_minor": 5
}
