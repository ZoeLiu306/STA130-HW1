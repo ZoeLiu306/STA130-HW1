{
 "cells": [
  {
   "cell_type": "markdown",
   "id": "4758e4af",
   "metadata": {},
   "source": [
    "Question 1"
   ]
  },
  {
   "cell_type": "markdown",
   "id": "ab1fbcd6",
   "metadata": {},
   "source": [
    "1.Research Question\n",
    "\n",
    "Objective: Formulate a clear research question.\n",
    "\n",
    "Research Question: “Is there an association between age and the frequency of experiencing difficulties sleeping?”\n",
    "\n",
    "Explanation: This question investigates whether age is a factor in how often individuals report having trouble sleeping. Understanding this relationship could help identify if certain age groups are more prone to sleep difficulties, which could have implications for wellness and mental health support across different life stages."
   ]
  },
  {
   "cell_type": "markdown",
   "id": "b0d5535c",
   "metadata": {},
   "source": [
    "2.Variables and Justification\n",
    "\n",
    "Objective: Define and justify the choice of variables.\n",
    "\n",
    "Independent Variable:\n",
    "\n",
    "DEMO_age: This variable represents the age of respondents and will be treated as a continuous variable. Age is chosen because it is often associated with changes in sleep patterns and quality over a person’s life span.\n",
    "\n",
    "Dependent Variable:\n",
    "\n",
    "WELLNESS_malach_pines_burnout_measure_difficulty_sleeping: This variable captures the frequency of reported sleep difficulties, which could be influenced by various demographic and lifestyle factors, including age.\n",
    "\n",
    "Justification: Analyzing age in relation to sleep difficulties is relevant because sleep quality and patterns can shift with age due to physiological and lifestyle changes. This variable pairing allows for an investigation into whether older or younger individuals tend to report more frequent sleep disturbances.\n"
   ]
  },
  {
   "cell_type": "markdown",
   "id": "143e1e70",
   "metadata": {},
   "source": [
    "3.Analysis Plan\n",
    "\n",
    "Objective: Outline the statistical analysis approach.\n",
    "\n",
    "Methodology: I will use a linear regression model to examine if age is a significant predictor of the frequency of sleep difficulties. Age will be the predictor (independent variable), and the sleep difficulty score will be the outcome (dependent variable).\n",
    "\n",
    "Assumptions: Linear regression assumes that the relationship between the variables is linear, residuals are normally distributed, and there is homoscedasticity. If these assumptions do not hold, I may consider transforming the data or using a non-parametric test, such as Spearman’s rank correlation.\n",
    "\n",
    "Visualization: I’ll create a scatter plot with a trend line to visualize the relationship between age and sleep difficulty frequency. This visualization will help to identify any apparent trends and check if the relationship appears linear."
   ]
  },
  {
   "cell_type": "markdown",
   "id": "16f64cd6",
   "metadata": {},
   "source": [
    "4.Hypothesis and Expected Outcomes\n",
    "\n",
    "Objective: Formulate a hypothesis and explain its relevance.\n",
    "\n",
    "Hypothesis: I hypothesize that age will be positively correlated with the frequency of sleep difficulties, with older individuals reporting more frequent issues with sleep.\n",
    "\n",
    "Relevance: If a positive association between age and sleep difficulties is observed, this finding could inform wellness programs aimed at addressing age-related sleep challenges. It may also highlight the need for age-specific mental health or wellness support that accounts for sleep quality."
   ]
  },
  {
   "cell_type": "code",
   "execution_count": null,
   "id": "37379dd9",
   "metadata": {},
   "outputs": [],
   "source": []
  },
  {
   "cell_type": "markdown",
   "id": "b767510e",
   "metadata": {},
   "source": [
    "Question 2"
   ]
  },
  {
   "cell_type": "markdown",
   "id": "0ad8b382",
   "metadata": {},
   "source": [
    "1.Research Question\n",
    "\n",
    "Objective: Formulate a specific and clear question.\n",
    "\n",
    "Research Question: “Does the number of neighbors known by name differ significantly by province or territory?”\n",
    "\n",
    "Explanation: This question seeks to identify if people’s connections with their neighbors vary by geographical region, specifically across Canada’s provinces and territories. Knowing one’s neighbors can be an indicator of community cohesion and social support. By examining this variable across regions, we may uncover patterns in social connectivity that could be influenced by factors like population density, cultural values, or rural vs. urban living."
   ]
  },
  {
   "cell_type": "markdown",
   "id": "ef02d7da",
   "metadata": {},
   "source": [
    "2.Variables and Justification\n",
    "\n",
    "Objective: Define each variable and explain why it was selected for the analysis.\n",
    "\n",
    "Independent Variable:\n",
    "\n",
    "GEO_province: This categorical variable represents the province or territory where each respondent lives. Analyzing neighbor connections by geographic location is relevant because social dynamics can vary significantly across different regions. Provinces like Ontario or British Columbia have large urban populations where people might be less likely to know their neighbors, whereas smaller provinces or territories with lower population densities may foster closer-knit communities.\n",
    "\n",
    "Dependent Variable:\n",
    "\n",
    "CONNECTION_neighbours_name_num: This numerical variable captures the number of neighbors each individual knows by name, providing a measure of their social connection within their immediate community. Higher values may indicate stronger community ties or greater social connectivity.\n",
    "\n",
    "Justification:\n",
    "Geographic location may influence neighbor connections due to factors such as cultural norms, levels of urbanization, and the physical layout of residential areas. This analysis will allow us to see if people in certain regions (e.g., rural vs. urban, eastern vs. western Canada) know more or fewer neighbors, shedding light on how local environments and social structures impact community connections."
   ]
  },
  {
   "cell_type": "markdown",
   "id": "381ff1e0",
   "metadata": {},
   "source": [
    "3.Analysis Plan\n",
    "\n",
    "Objective: Detail the statistical approach and methods for this analysis.\n",
    "\n",
    "Methodology:\n",
    "\n",
    "Descriptive Statistics: Calculate the average (mean) and median number of neighbors known by name for each province or territory. This will provide a sense of the typical level of community connection across different regions.\n",
    "\n",
    "Group Comparison:\n",
    "Rank provinces or territories by their average number of neighbors known.\n",
    "Look for notable differences between regions (e.g., comparing highly urbanized provinces vs. rural provinces).\n",
    "\n",
    "Visualization: Create a bar chart showing the average number of neighbors known by name for each province. This visual will help highlight regional differences in community connection.\n",
    "\n",
    "Assumptions:\n",
    "We’re assuming that the averages will give us meaningful insights into regional trends in neighbor relationships without requiring complex statistical tests.\n",
    "Note that any differences observed will be descriptive, not inferential; without formal testing, we can’t say if the differences are statistically significant, but we can identify patterns."
   ]
  },
  {
   "cell_type": "markdown",
   "id": "f1bc8a9a",
   "metadata": {},
   "source": [
    "4.Hypothesis and Expected Outcomes\n",
    "\n",
    "Hypothesis: People in smaller, more rural provinces or territories (e.g., Prince Edward Island, Newfoundland and Labrador) may know more neighbors by name, while individuals in larger, more urbanized provinces (e.g., Ontario, British Columbia) might know fewer neighbors on average.\n",
    "\n",
    "Relevance: This descriptive comparison could highlight how urbanization and region affect social connectivity, informing community-building and public health efforts. Regions with lower neighbor connections might consider programs that encourage interaction and support local communities."
   ]
  },
  {
   "cell_type": "code",
   "execution_count": null,
   "id": "9064d469",
   "metadata": {},
   "outputs": [],
   "source": []
  },
  {
   "cell_type": "markdown",
   "id": "e2d0e1bc",
   "metadata": {},
   "source": [
    "Question 3"
   ]
  },
  {
   "cell_type": "markdown",
   "id": "74875cfe",
   "metadata": {},
   "source": [
    "1.Research Question\n",
    "\n",
    "Objective: Formulate a clear question.\n",
    "\n",
    "Research Question: “Is there a relationship between the amount of time spent on social media per day and feelings of loneliness?”\n",
    "\n",
    "Explanation: This question explores whether increased time on social media is associated with greater feelings of loneliness, helping us understand potential social or mental health impacts related to social media use."
   ]
  },
  {
   "cell_type": "markdown",
   "id": "cd7f0fdc",
   "metadata": {},
   "source": [
    "2.Variables and Justification\n",
    "\n",
    "Independent Variable:\n",
    "\n",
    "CONNECTION_social_media_time_per_day: This variable measures the average time (in hours) that individuals spend on social media each day. It’s relevant because increased social media use has been linked to various mental health outcomes, including loneliness.\n",
    "\n",
    "Dependent Variable:\n",
    "\n",
    "LONELY_direct: This variable captures self-reported feelings of loneliness over the past week, a common indicator of social well-being and mental health.\n",
    "\n",
    "Justification:\n",
    "Research suggests that while social media allows people to connect, heavy use might be associated with loneliness due to reduced face-to-face interactions or negative social comparisons. Analyzing this relationship could offer insights into whether more time on social media correlates with higher levels of loneliness in this dataset."
   ]
  },
  {
   "cell_type": "markdown",
   "id": "0d6c7f7b",
   "metadata": {},
   "source": [
    "3.Analysis Plan\n",
    "\n",
    "Methodology:\n",
    "\n",
    "Correlation Analysis:\n",
    "Calculate the correlation coefficient between CONNECTION_social_media_time_per_day (time on social media) and LONELY_direct (feelings of loneliness) to see if there is a positive or negative relationship. This simple correlation will indicate whether an increase in social media time is associated with an increase or decrease in loneliness.\n",
    "\n",
    "Descriptive Statistics:\n",
    "Calculate the average time spent on social media for those who report feeling lonely versus those who do not. This comparison will show whether people who feel lonely tend to use social media more.\n",
    "\n",
    "Visualization:\n",
    "Create a scatter plot with CONNECTION_social_media_time_per_day on the x-axis and LONELY_direct on the y-axis. Each point will represent an individual’s data for both variables, allowing me to visually observe any trend between social media usage and loneliness.\n",
    "\n",
    "Assumptions:\n",
    "This analysis assumes that there is a linear relationship between social media use and loneliness, which the scatter plot will help us evaluate visually."
   ]
  },
  {
   "cell_type": "markdown",
   "id": "c6d40670",
   "metadata": {},
   "source": [
    "4.Hypothesis and Expected Outcomes\n",
    "\n",
    "Hypothesis: I hypothesize that higher social media use per day is associated with increased feelings of loneliness. The rationale is that excessive social media use might lead to fewer in-person interactions or increased social comparison, contributing to feelings of isolation.\n",
    "\n",
    "Relevance:\n",
    "This analysis could help us understand how social media habits might impact mental health, particularly loneliness. If a strong positive association is found, this information could be valuable for public health messaging or mental health support strategies. Social media platforms or mental health organizations could use insights from studies like this to promote healthier social media habits."
   ]
  },
  {
   "cell_type": "code",
   "execution_count": null,
   "id": "10952a8e",
   "metadata": {},
   "outputs": [],
   "source": []
  }
 ],
 "metadata": {
  "kernelspec": {
   "display_name": "Python 3 (ipykernel)",
   "language": "python",
   "name": "python3"
  },
  "language_info": {
   "codemirror_mode": {
    "name": "ipython",
    "version": 3
   },
   "file_extension": ".py",
   "mimetype": "text/x-python",
   "name": "python",
   "nbconvert_exporter": "python",
   "pygments_lexer": "ipython3",
   "version": "3.11.6"
  }
 },
 "nbformat": 4,
 "nbformat_minor": 5
}
