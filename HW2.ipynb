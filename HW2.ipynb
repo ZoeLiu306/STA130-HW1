{
 "cells": [
  {
   "cell_type": "code",
   "execution_count": 1,
   "id": "e8cd18d9",
   "metadata": {},
   "outputs": [
    {
     "data": {
      "text/plain": [
       "0.66751"
      ]
     },
     "execution_count": 1,
     "metadata": {},
     "output_type": "execute_result"
    }
   ],
   "source": [
    "# Monte Hall Simulation Code -- not the only way to code this, but it's what Prof. Schwartz came up with...\n",
    "\n",
    "import numpy as np\n",
    "all_door_options = (1,2,3)  # tuple\n",
    "my_door_choice = 1  # 1,2,3\n",
    "i_won = 0\n",
    "reps = 100000\n",
    "for i in range(reps):\n",
    "    secret_winning_door = np.random.choice(all_door_options)\n",
    "    all_door_options_list = list(all_door_options)\n",
    "    # take the secret_winning_door, so we don't show it as a \"goat\" losing door\n",
    "    all_door_options_list.remove(secret_winning_door)\n",
    "    try:\n",
    "        # if my_door_choice was secret_winning_door then it's already removed\n",
    "        all_door_options_list.remove(my_door_choice)\n",
    "    except:\n",
    "        pass\n",
    "    # show a \"goat\" losing door and remove it\n",
    "    goat_door_reveal = np.random.choice(all_door_options_list)\n",
    "    all_door_options_list.remove(goat_door_reveal)\n",
    "\n",
    "    # put the secret_winning_door back in if it wasn't our choice\n",
    "    # we previously removed it, so it would be shown as a  \"goat\" losing door\n",
    "    if secret_winning_door != my_door_choice:\n",
    "        all_door_options_list.append(secret_winning_door)\n",
    "    # if secret_winning_door was our choice then all that's left in the list is a \"goat\" losing door\n",
    "    # if secret_winning_door wasn't our choice then it's all that will be left in the list\n",
    "\n",
    "    # swap strategy\n",
    "    my_door_choice = all_door_options_list[0]\n",
    "\n",
    "    if my_door_choice == secret_winning_door:\n",
    "        i_won += 1\n",
    "\n",
    "i_won/reps"
   ]
  },
  {
   "cell_type": "code",
   "execution_count": 1,
   "id": "176dd75e",
   "metadata": {},
   "outputs": [
    {
     "name": "stdout",
     "output_type": "stream",
     "text": [
      "0.66699\n"
     ]
    }
   ],
   "source": [
    "import numpy as np\n",
    "\n",
    "reps = 100000  # Number of repetitions (100,000 in this case)\n",
    "i_won = 0  # Counter for how many times we win\n",
    "\n",
    "for _ in range(reps):\n",
    "    # Randomly assign the car to one of the three doors (1, 2, or 3)\n",
    "    secret_winning_door = np.random.choice([1, 2, 3])\n",
    "    \n",
    "    # We always choose Door 1\n",
    "    my_door_choice = 1\n",
    "    \n",
    "    # Monty opens a door, and we always switch\n",
    "    # If the secret winning door is not Door 1, switching wins\n",
    "    if my_door_choice != secret_winning_door:\n",
    "        i_won += 1\n",
    "\n",
    "# Calculate and print the win ratio when switching\n",
    "print(i_won / reps)\n"
   ]
  },
  {
   "cell_type": "markdown",
   "id": "761764f6",
   "metadata": {},
   "source": [
    "My conversation with chatbot:\n",
    "https://chatgpt.com/share/66ec6244-9894-800b-ab7e-a8b0019b4d88"
   ]
  }
 ],
 "metadata": {
  "kernelspec": {
   "display_name": "Python 3 (ipykernel)",
   "language": "python",
   "name": "python3"
  },
  "language_info": {
   "codemirror_mode": {
    "name": "ipython",
    "version": 3
   },
   "file_extension": ".py",
   "mimetype": "text/x-python",
   "name": "python",
   "nbconvert_exporter": "python",
   "pygments_lexer": "ipython3",
   "version": "3.11.6"
  }
 },
 "nbformat": 4,
 "nbformat_minor": 5
}
